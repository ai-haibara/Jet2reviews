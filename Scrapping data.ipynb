{
 "cells": [
  {
   "cell_type": "code",
   "execution_count": 32,
   "metadata": {},
   "outputs": [],
   "source": [
    "# This scrapping code comes from Dharun Suryaa\n",
    "# I modified it to get Jet2 reviews data\n",
    "\n",
    "from bs4 import BeautifulSoup\n",
    "import requests\n",
    "import re"
   ]
  },
  {
   "cell_type": "code",
   "execution_count": 5,
   "metadata": {},
   "outputs": [],
   "source": [
    "url ='https://www.airlinequality.com/airline-reviews/jet2-com'\n",
    "page= requests.get(url)\n",
    "soup= BeautifulSoup(page.content,\"html.parser\")"
   ]
  },
  {
   "cell_type": "code",
   "execution_count": 6,
   "metadata": {},
   "outputs": [],
   "source": [
    "rating, header,author, date, place, verification, content, collect=[],[],[],[],[],[],[],[]\n",
    "urls=[url]\n",
    "c=1\n",
    "while(soup!=None):\n",
    "    articles = soup.find_all(\"article\", attrs={'class':re.compile('comp comp_media-review-rated list-item media position-content review-[0-9]*')})\n",
    "    for article in articles:\n",
    "        if(article.find(\"div\",class_='rating-10').find('span') is None):\n",
    "            rating.append(None)\n",
    "        else:\n",
    "            rating.append(article.find(\"div\",class_='rating-10').find('span').text)\n",
    "        if(article.find(\"div\",class_='body').find('h2') is None):\n",
    "            header.append(None)\n",
    "        else:\n",
    "            header.append(article.find(\"div\",class_='body').find('h2').text.strip(\"\\\"\"))\n",
    "        if(article.find(\"div\",class_='body').find('span',itemprop='author').find('span') is None):\n",
    "            author.append(None)\n",
    "        else:\n",
    "            author.append(article.find(\"div\",class_='body').find('span',itemprop='author').find('span').text)\n",
    "        if(article.find(\"div\",class_='body').find('time',itemprop='datePublished') is None):\n",
    "            date.append(None)\n",
    "        else:\n",
    "            date.append(article.find(\"div\",class_='body').find('time',itemprop='datePublished')['datetime'])\n",
    "        if(re.search(r\".*(\\(.*\\)).*\",article.find(\"div\",class_='body').find('h3').text.strip()) is None):\n",
    "            place.append(None)\n",
    "        else: \n",
    "            place.append(re.search(r\".*(\\(.*\\)).*\",article.find(\"div\",class_='body').find('h3').text.strip()).group(1).strip('()'))\n",
    "        content.append(article.find(\"div\",class_='text_content').text.strip())\n",
    "        tr= article.find(\"div\",class_='body').find('table', class_='review-ratings').findAll(lambda tag: tag.name=='tr')\n",
    "        table_dict={}\n",
    "        for row in tr:\n",
    "            key= row.find('td',attrs={'class':re.compile('review-rating-header.*')}).text\n",
    "            if(row.find('td',class_='review-value')==None):\n",
    "                if(not [i.text for i in row.find('td',attrs={'class':re.compile('review-rating-stars.*')}).findAll('span',class_='star fill')]):\n",
    "                    value=None\n",
    "                else:\n",
    "                    value=max([i.text for i in row.find('td',attrs={'class':re.compile('review-rating-stars.*')}).findAll('span',class_='star fill')])\n",
    "            else:\n",
    "                value= row.find('td',class_='review-value').text\n",
    "            table_dict[key]=value\n",
    "        collect.append(table_dict)\n",
    "    next_article=soup.find('article', class_='comp comp_reviews-pagination querylist-pagination position-')\n",
    "    c+=1\n",
    "    next_url=\"https://www.airlinequality.com\"+\"/airline-reviews/jet2-com/page/\"+str(c)+\"/\"\n",
    "    urls.append(next_url)\n",
    "    page= requests.get(next_url)\n",
    "    soup= BeautifulSoup(page.content,\"html.parser\")\n",
    "    if(c==367):\n",
    "        break"
   ]
  },
  {
   "cell_type": "code",
   "execution_count": 7,
   "metadata": {},
   "outputs": [],
   "source": [
    "import pandas as pd\n",
    "import numpy as np"
   ]
  },
  {
   "cell_type": "code",
   "execution_count": 8,
   "metadata": {},
   "outputs": [],
   "source": [
    "airline_review = pd.DataFrame({\"rating\":rating, \n",
    "                               \"header\":header, \n",
    "                               \"author\":author, \n",
    "                               \"date\":date,\n",
    "                               \"place\":place,\n",
    "                               \"content\":content, \n",
    "                               \"collect\":collect})"
   ]
  },
  {
   "cell_type": "code",
   "execution_count": 9,
   "metadata": {},
   "outputs": [],
   "source": [
    "airline_review.dropna(inplace=True)"
   ]
  },
  {
   "cell_type": "code",
   "execution_count": 10,
   "metadata": {},
   "outputs": [],
   "source": [
    "airline_review.rating=airline_review.rating.astype(int)"
   ]
  },
  {
   "cell_type": "code",
   "execution_count": 11,
   "metadata": {},
   "outputs": [],
   "source": [
    "airline_review.date=pd.to_datetime(airline_review.date)"
   ]
  },
  {
   "cell_type": "code",
   "execution_count": 12,
   "metadata": {},
   "outputs": [],
   "source": [
    "new_airline_review=airline_review.merge(pd.json_normalize(airline_review.collect).rename(columns={\n",
    "    'Aircraft':'aircraft',\n",
    "    'Type Of Traveller':'traveller_type',\n",
    "    'Seat Type':'seat_type',\n",
    "    'Route':'route',\n",
    "    'Date Flown':'date_flown',\n",
    "    'Seat Comfort':'seat_comfort',\n",
    "    'Cabin Staff Service':'cabin_staff_service', \n",
    "    'Food & Beverages':'food_beverages',\n",
    "    'Ground Service':'ground_service',\n",
    "    'Value For Money':'value_for_money',\n",
    "    'Recommended':'recommended',\n",
    "    'Wifi & Connectivity':'wifi_connectivity',\n",
    "    'Inflight Entertainment':'entertainment'    \n",
    "}), left_index=True, right_index=True).drop(columns=['collect'])"
   ]
  },
  {
   "cell_type": "code",
   "execution_count": 13,
   "metadata": {},
   "outputs": [],
   "source": [
    "new_airline_review.content = new_airline_review.content.str.split('|').apply(lambda x: x[1] if len(x)>=2 else x[0])"
   ]
  },
  {
   "cell_type": "code",
   "execution_count": 14,
   "metadata": {},
   "outputs": [
    {
     "data": {
      "text/html": [
       "<div>\n",
       "<style scoped>\n",
       "    .dataframe tbody tr th:only-of-type {\n",
       "        vertical-align: middle;\n",
       "    }\n",
       "\n",
       "    .dataframe tbody tr th {\n",
       "        vertical-align: top;\n",
       "    }\n",
       "\n",
       "    .dataframe thead th {\n",
       "        text-align: right;\n",
       "    }\n",
       "</style>\n",
       "<table border=\"1\" class=\"dataframe\">\n",
       "  <thead>\n",
       "    <tr style=\"text-align: right;\">\n",
       "      <th></th>\n",
       "      <th>rating</th>\n",
       "      <th>header</th>\n",
       "      <th>author</th>\n",
       "      <th>date</th>\n",
       "      <th>place</th>\n",
       "      <th>content</th>\n",
       "      <th>aircraft</th>\n",
       "      <th>traveller_type</th>\n",
       "      <th>seat_type</th>\n",
       "      <th>route</th>\n",
       "      <th>date_flown</th>\n",
       "      <th>seat_comfort</th>\n",
       "      <th>cabin_staff_service</th>\n",
       "      <th>food_beverages</th>\n",
       "      <th>ground_service</th>\n",
       "      <th>value_for_money</th>\n",
       "      <th>recommended</th>\n",
       "      <th>entertainment</th>\n",
       "      <th>wifi_connectivity</th>\n",
       "    </tr>\n",
       "  </thead>\n",
       "  <tbody>\n",
       "    <tr>\n",
       "      <th>0</th>\n",
       "      <td>5</td>\n",
       "      <td>I got the unfriendly fare</td>\n",
       "      <td>L Kirk</td>\n",
       "      <td>2024-01-16</td>\n",
       "      <td>United Kingdom</td>\n",
       "      <td>Swift check in service with plenty of staff ...</td>\n",
       "      <td>Boeing 737</td>\n",
       "      <td>Solo Leisure</td>\n",
       "      <td>Economy Class</td>\n",
       "      <td>Manchester to Barcelona</td>\n",
       "      <td>July 2023</td>\n",
       "      <td>1</td>\n",
       "      <td>4</td>\n",
       "      <td>5</td>\n",
       "      <td>5</td>\n",
       "      <td>1</td>\n",
       "      <td>yes</td>\n",
       "      <td>NaN</td>\n",
       "      <td>NaN</td>\n",
       "    </tr>\n",
       "    <tr>\n",
       "      <th>1</th>\n",
       "      <td>2</td>\n",
       "      <td>ground and cabin staff are abrupt</td>\n",
       "      <td>Lorraine Atkinson</td>\n",
       "      <td>2024-01-02</td>\n",
       "      <td>United Kingdom</td>\n",
       "      <td>Jet2 ground and cabin staff are abrupt and un...</td>\n",
       "      <td>NaN</td>\n",
       "      <td>Couple Leisure</td>\n",
       "      <td>Economy Class</td>\n",
       "      <td>Manchester to Lanzarote</td>\n",
       "      <td>December 2023</td>\n",
       "      <td>2</td>\n",
       "      <td>1</td>\n",
       "      <td>NaN</td>\n",
       "      <td>1</td>\n",
       "      <td>3</td>\n",
       "      <td>no</td>\n",
       "      <td>NaN</td>\n",
       "      <td>NaN</td>\n",
       "    </tr>\n",
       "    <tr>\n",
       "      <th>2</th>\n",
       "      <td>10</td>\n",
       "      <td>Crew friendly &amp; efficient\"</td>\n",
       "      <td>Karl Whitehead</td>\n",
       "      <td>2023-12-02</td>\n",
       "      <td>United Kingdom</td>\n",
       "      <td>First time flying with Jet2 they didn't dis...</td>\n",
       "      <td>A321 neo</td>\n",
       "      <td>Family Leisure</td>\n",
       "      <td>Economy Class</td>\n",
       "      <td>Manchester to Fuerterventura</td>\n",
       "      <td>November 2023</td>\n",
       "      <td>4</td>\n",
       "      <td>5</td>\n",
       "      <td>5</td>\n",
       "      <td>5</td>\n",
       "      <td>5</td>\n",
       "      <td>yes</td>\n",
       "      <td>NaN</td>\n",
       "      <td>NaN</td>\n",
       "    </tr>\n",
       "    <tr>\n",
       "      <th>3</th>\n",
       "      <td>5</td>\n",
       "      <td>The seats are really uncomfortable</td>\n",
       "      <td>R Savage</td>\n",
       "      <td>2023-10-29</td>\n",
       "      <td>United Kingdom</td>\n",
       "      <td>So we flew out at 6.30 am. The seats are rea...</td>\n",
       "      <td>NaN</td>\n",
       "      <td>Couple Leisure</td>\n",
       "      <td>Economy Class</td>\n",
       "      <td>Athens to Manchester</td>\n",
       "      <td>October 2023</td>\n",
       "      <td>1</td>\n",
       "      <td>2</td>\n",
       "      <td>1</td>\n",
       "      <td>3</td>\n",
       "      <td>1</td>\n",
       "      <td>no</td>\n",
       "      <td>1</td>\n",
       "      <td>1</td>\n",
       "    </tr>\n",
       "    <tr>\n",
       "      <th>4</th>\n",
       "      <td>8</td>\n",
       "      <td>a long rung above the competition</td>\n",
       "      <td>2 reviews</td>\n",
       "      <td>2023-10-17</td>\n",
       "      <td>United Kingdom</td>\n",
       "      <td>In the UK it is pretty difficult to get a f...</td>\n",
       "      <td>Boeing 737-800</td>\n",
       "      <td>Couple Leisure</td>\n",
       "      <td>Economy Class</td>\n",
       "      <td>Funchal to East Midlands</td>\n",
       "      <td>October 2023</td>\n",
       "      <td>1</td>\n",
       "      <td>4</td>\n",
       "      <td>NaN</td>\n",
       "      <td>4</td>\n",
       "      <td>5</td>\n",
       "      <td>yes</td>\n",
       "      <td>NaN</td>\n",
       "      <td>NaN</td>\n",
       "    </tr>\n",
       "  </tbody>\n",
       "</table>\n",
       "</div>"
      ],
      "text/plain": [
       "   rating                              header             author       date  \\\n",
       "0       5           I got the unfriendly fare             L Kirk 2024-01-16   \n",
       "1       2   ground and cabin staff are abrupt  Lorraine Atkinson 2024-01-02   \n",
       "2      10         Crew friendly & efficient\"      Karl Whitehead 2023-12-02   \n",
       "3       5  The seats are really uncomfortable           R Savage 2023-10-29   \n",
       "4       8   a long rung above the competition          2 reviews 2023-10-17   \n",
       "\n",
       "            place                                            content  \\\n",
       "0  United Kingdom    Swift check in service with plenty of staff ...   \n",
       "1  United Kingdom   Jet2 ground and cabin staff are abrupt and un...   \n",
       "2  United Kingdom     First time flying with Jet2 they didn't dis...   \n",
       "3  United Kingdom    So we flew out at 6.30 am. The seats are rea...   \n",
       "4  United Kingdom     In the UK it is pretty difficult to get a f...   \n",
       "\n",
       "         aircraft  traveller_type      seat_type  \\\n",
       "0      Boeing 737    Solo Leisure  Economy Class   \n",
       "1             NaN  Couple Leisure  Economy Class   \n",
       "2        A321 neo  Family Leisure  Economy Class   \n",
       "3             NaN  Couple Leisure  Economy Class   \n",
       "4  Boeing 737-800  Couple Leisure  Economy Class   \n",
       "\n",
       "                          route     date_flown seat_comfort  \\\n",
       "0       Manchester to Barcelona      July 2023            1   \n",
       "1       Manchester to Lanzarote  December 2023            2   \n",
       "2  Manchester to Fuerterventura  November 2023            4   \n",
       "3          Athens to Manchester   October 2023            1   \n",
       "4      Funchal to East Midlands   October 2023            1   \n",
       "\n",
       "  cabin_staff_service food_beverages ground_service value_for_money  \\\n",
       "0                   4              5              5               1   \n",
       "1                   1            NaN              1               3   \n",
       "2                   5              5              5               5   \n",
       "3                   2              1              3               1   \n",
       "4                   4            NaN              4               5   \n",
       "\n",
       "  recommended entertainment wifi_connectivity  \n",
       "0         yes           NaN               NaN  \n",
       "1          no           NaN               NaN  \n",
       "2         yes           NaN               NaN  \n",
       "3          no             1                 1  \n",
       "4         yes           NaN               NaN  "
      ]
     },
     "execution_count": 14,
     "metadata": {},
     "output_type": "execute_result"
    }
   ],
   "source": [
    "new_airline_review.head()"
   ]
  },
  {
   "cell_type": "code",
   "execution_count": 15,
   "metadata": {},
   "outputs": [
    {
     "name": "stdout",
     "output_type": "stream",
     "text": [
      "<class 'pandas.core.frame.DataFrame'>\n",
      "Int64Index: 476 entries, 0 to 525\n",
      "Data columns (total 19 columns):\n",
      " #   Column               Non-Null Count  Dtype         \n",
      "---  ------               --------------  -----         \n",
      " 0   rating               476 non-null    int64         \n",
      " 1   header               476 non-null    object        \n",
      " 2   author               476 non-null    object        \n",
      " 3   date                 476 non-null    datetime64[ns]\n",
      " 4   place                476 non-null    object        \n",
      " 5   content              476 non-null    object        \n",
      " 6   aircraft             97 non-null     object        \n",
      " 7   traveller_type       237 non-null    object        \n",
      " 8   seat_type            475 non-null    object        \n",
      " 9   route                235 non-null    object        \n",
      " 10  date_flown           235 non-null    object        \n",
      " 11  seat_comfort         463 non-null    object        \n",
      " 12  cabin_staff_service  463 non-null    object        \n",
      " 13  food_beverages       363 non-null    object        \n",
      " 14  ground_service       230 non-null    object        \n",
      " 15  value_for_money      476 non-null    object        \n",
      " 16  recommended          476 non-null    object        \n",
      " 17  entertainment        46 non-null     object        \n",
      " 18  wifi_connectivity    38 non-null     object        \n",
      "dtypes: datetime64[ns](1), int64(1), object(17)\n",
      "memory usage: 74.4+ KB\n"
     ]
    }
   ],
   "source": [
    "new_airline_review.info()"
   ]
  },
  {
   "cell_type": "code",
   "execution_count": 16,
   "metadata": {},
   "outputs": [
    {
     "data": {
      "text/plain": [
       "6.7478991596638656"
      ]
     },
     "execution_count": 16,
     "metadata": {},
     "output_type": "execute_result"
    }
   ],
   "source": [
    "new_airline_review.rating.mean()"
   ]
  },
  {
   "cell_type": "code",
   "execution_count": 17,
   "metadata": {},
   "outputs": [],
   "source": [
    "new_airline_review['trip_verified']=airline_review.content.str.split('|').apply(lambda x: x[0] if len(x)>=2 else None)"
   ]
  },
  {
   "cell_type": "code",
   "execution_count": 18,
   "metadata": {},
   "outputs": [],
   "source": [
    "new_airline_review.drop(columns={'wifi_connectivity'}, inplace=True)"
   ]
  },
  {
   "cell_type": "code",
   "execution_count": 19,
   "metadata": {},
   "outputs": [],
   "source": [
    "new_airline_review.date_flown = pd.to_datetime(new_airline_review.date_flown)"
   ]
  },
  {
   "cell_type": "code",
   "execution_count": 20,
   "metadata": {},
   "outputs": [],
   "source": [
    "new_airline_review.seat_comfort=new_airline_review.seat_comfort.fillna(-1)\n",
    "new_airline_review.seat_comfort=new_airline_review.seat_comfort.astype(int)\n",
    "new_airline_review.cabin_staff_service=new_airline_review.cabin_staff_service.fillna(-1)\n",
    "new_airline_review.cabin_staff_service=new_airline_review.cabin_staff_service.astype(int)\n",
    "new_airline_review.food_beverages=new_airline_review.food_beverages.fillna(-1)\n",
    "new_airline_review.food_beverages=new_airline_review.food_beverages.astype(int)\n",
    "new_airline_review.ground_service=new_airline_review.ground_service.fillna(-1)\n",
    "new_airline_review.ground_service=new_airline_review.ground_service.astype(int)\n",
    "new_airline_review.value_for_money=new_airline_review.value_for_money.fillna(-1)\n",
    "new_airline_review.value_for_money=new_airline_review.value_for_money.astype(int)\n",
    "new_airline_review.entertainment=new_airline_review.entertainment.fillna(-1)\n",
    "new_airline_review.entertainment=new_airline_review.entertainment.astype(int)"
   ]
  },
  {
   "cell_type": "code",
   "execution_count": 21,
   "metadata": {},
   "outputs": [
    {
     "name": "stdout",
     "output_type": "stream",
     "text": [
      "<class 'pandas.core.frame.DataFrame'>\n",
      "Int64Index: 476 entries, 0 to 525\n",
      "Data columns (total 19 columns):\n",
      " #   Column               Non-Null Count  Dtype         \n",
      "---  ------               --------------  -----         \n",
      " 0   rating               476 non-null    int64         \n",
      " 1   header               476 non-null    object        \n",
      " 2   author               476 non-null    object        \n",
      " 3   date                 476 non-null    datetime64[ns]\n",
      " 4   place                476 non-null    object        \n",
      " 5   content              476 non-null    object        \n",
      " 6   aircraft             97 non-null     object        \n",
      " 7   traveller_type       237 non-null    object        \n",
      " 8   seat_type            475 non-null    object        \n",
      " 9   route                235 non-null    object        \n",
      " 10  date_flown           235 non-null    datetime64[ns]\n",
      " 11  seat_comfort         476 non-null    int64         \n",
      " 12  cabin_staff_service  476 non-null    int64         \n",
      " 13  food_beverages       476 non-null    int64         \n",
      " 14  ground_service       476 non-null    int64         \n",
      " 15  value_for_money      476 non-null    int64         \n",
      " 16  recommended          476 non-null    object        \n",
      " 17  entertainment        476 non-null    int64         \n",
      " 18  trip_verified        143 non-null    object        \n",
      "dtypes: datetime64[ns](2), int64(7), object(10)\n",
      "memory usage: 74.4+ KB\n"
     ]
    }
   ],
   "source": [
    "new_airline_review.info()"
   ]
  },
  {
   "cell_type": "code",
   "execution_count": 22,
   "metadata": {},
   "outputs": [
    {
     "data": {
      "text/html": [
       "<div>\n",
       "<style scoped>\n",
       "    .dataframe tbody tr th:only-of-type {\n",
       "        vertical-align: middle;\n",
       "    }\n",
       "\n",
       "    .dataframe tbody tr th {\n",
       "        vertical-align: top;\n",
       "    }\n",
       "\n",
       "    .dataframe thead th {\n",
       "        text-align: right;\n",
       "    }\n",
       "</style>\n",
       "<table border=\"1\" class=\"dataframe\">\n",
       "  <thead>\n",
       "    <tr style=\"text-align: right;\">\n",
       "      <th></th>\n",
       "      <th>rating</th>\n",
       "      <th>header</th>\n",
       "      <th>author</th>\n",
       "      <th>date</th>\n",
       "      <th>place</th>\n",
       "      <th>content</th>\n",
       "      <th>aircraft</th>\n",
       "      <th>traveller_type</th>\n",
       "      <th>seat_type</th>\n",
       "      <th>route</th>\n",
       "      <th>date_flown</th>\n",
       "      <th>seat_comfort</th>\n",
       "      <th>cabin_staff_service</th>\n",
       "      <th>food_beverages</th>\n",
       "      <th>ground_service</th>\n",
       "      <th>value_for_money</th>\n",
       "      <th>recommended</th>\n",
       "      <th>entertainment</th>\n",
       "      <th>trip_verified</th>\n",
       "    </tr>\n",
       "  </thead>\n",
       "  <tbody>\n",
       "    <tr>\n",
       "      <th>0</th>\n",
       "      <td>5</td>\n",
       "      <td>I got the unfriendly fare</td>\n",
       "      <td>L Kirk</td>\n",
       "      <td>2024-01-16</td>\n",
       "      <td>United Kingdom</td>\n",
       "      <td>Swift check in service with plenty of staff ...</td>\n",
       "      <td>Boeing 737</td>\n",
       "      <td>Solo Leisure</td>\n",
       "      <td>Economy Class</td>\n",
       "      <td>Manchester to Barcelona</td>\n",
       "      <td>2023-07-01</td>\n",
       "      <td>1</td>\n",
       "      <td>4</td>\n",
       "      <td>5</td>\n",
       "      <td>5</td>\n",
       "      <td>1</td>\n",
       "      <td>yes</td>\n",
       "      <td>-1</td>\n",
       "      <td>Not Verified</td>\n",
       "    </tr>\n",
       "    <tr>\n",
       "      <th>1</th>\n",
       "      <td>2</td>\n",
       "      <td>ground and cabin staff are abrupt</td>\n",
       "      <td>Lorraine Atkinson</td>\n",
       "      <td>2024-01-02</td>\n",
       "      <td>United Kingdom</td>\n",
       "      <td>Jet2 ground and cabin staff are abrupt and un...</td>\n",
       "      <td>NaN</td>\n",
       "      <td>Couple Leisure</td>\n",
       "      <td>Economy Class</td>\n",
       "      <td>Manchester to Lanzarote</td>\n",
       "      <td>2023-12-01</td>\n",
       "      <td>2</td>\n",
       "      <td>1</td>\n",
       "      <td>-1</td>\n",
       "      <td>1</td>\n",
       "      <td>3</td>\n",
       "      <td>no</td>\n",
       "      <td>-1</td>\n",
       "      <td>Not Verified</td>\n",
       "    </tr>\n",
       "    <tr>\n",
       "      <th>2</th>\n",
       "      <td>10</td>\n",
       "      <td>Crew friendly &amp; efficient\"</td>\n",
       "      <td>Karl Whitehead</td>\n",
       "      <td>2023-12-02</td>\n",
       "      <td>United Kingdom</td>\n",
       "      <td>First time flying with Jet2 they didn't dis...</td>\n",
       "      <td>A321 neo</td>\n",
       "      <td>Family Leisure</td>\n",
       "      <td>Economy Class</td>\n",
       "      <td>Manchester to Fuerterventura</td>\n",
       "      <td>2023-11-01</td>\n",
       "      <td>4</td>\n",
       "      <td>5</td>\n",
       "      <td>5</td>\n",
       "      <td>5</td>\n",
       "      <td>5</td>\n",
       "      <td>yes</td>\n",
       "      <td>-1</td>\n",
       "      <td>Not Verified</td>\n",
       "    </tr>\n",
       "    <tr>\n",
       "      <th>3</th>\n",
       "      <td>5</td>\n",
       "      <td>The seats are really uncomfortable</td>\n",
       "      <td>R Savage</td>\n",
       "      <td>2023-10-29</td>\n",
       "      <td>United Kingdom</td>\n",
       "      <td>So we flew out at 6.30 am. The seats are rea...</td>\n",
       "      <td>NaN</td>\n",
       "      <td>Couple Leisure</td>\n",
       "      <td>Economy Class</td>\n",
       "      <td>Athens to Manchester</td>\n",
       "      <td>2023-10-01</td>\n",
       "      <td>1</td>\n",
       "      <td>2</td>\n",
       "      <td>1</td>\n",
       "      <td>3</td>\n",
       "      <td>1</td>\n",
       "      <td>no</td>\n",
       "      <td>1</td>\n",
       "      <td>Not Verified</td>\n",
       "    </tr>\n",
       "    <tr>\n",
       "      <th>4</th>\n",
       "      <td>8</td>\n",
       "      <td>a long rung above the competition</td>\n",
       "      <td>2 reviews</td>\n",
       "      <td>2023-10-17</td>\n",
       "      <td>United Kingdom</td>\n",
       "      <td>In the UK it is pretty difficult to get a f...</td>\n",
       "      <td>Boeing 737-800</td>\n",
       "      <td>Couple Leisure</td>\n",
       "      <td>Economy Class</td>\n",
       "      <td>Funchal to East Midlands</td>\n",
       "      <td>2023-10-01</td>\n",
       "      <td>1</td>\n",
       "      <td>4</td>\n",
       "      <td>-1</td>\n",
       "      <td>4</td>\n",
       "      <td>5</td>\n",
       "      <td>yes</td>\n",
       "      <td>-1</td>\n",
       "      <td>✅ Trip Verified</td>\n",
       "    </tr>\n",
       "  </tbody>\n",
       "</table>\n",
       "</div>"
      ],
      "text/plain": [
       "   rating                              header             author       date  \\\n",
       "0       5           I got the unfriendly fare             L Kirk 2024-01-16   \n",
       "1       2   ground and cabin staff are abrupt  Lorraine Atkinson 2024-01-02   \n",
       "2      10         Crew friendly & efficient\"      Karl Whitehead 2023-12-02   \n",
       "3       5  The seats are really uncomfortable           R Savage 2023-10-29   \n",
       "4       8   a long rung above the competition          2 reviews 2023-10-17   \n",
       "\n",
       "            place                                            content  \\\n",
       "0  United Kingdom    Swift check in service with plenty of staff ...   \n",
       "1  United Kingdom   Jet2 ground and cabin staff are abrupt and un...   \n",
       "2  United Kingdom     First time flying with Jet2 they didn't dis...   \n",
       "3  United Kingdom    So we flew out at 6.30 am. The seats are rea...   \n",
       "4  United Kingdom     In the UK it is pretty difficult to get a f...   \n",
       "\n",
       "         aircraft  traveller_type      seat_type  \\\n",
       "0      Boeing 737    Solo Leisure  Economy Class   \n",
       "1             NaN  Couple Leisure  Economy Class   \n",
       "2        A321 neo  Family Leisure  Economy Class   \n",
       "3             NaN  Couple Leisure  Economy Class   \n",
       "4  Boeing 737-800  Couple Leisure  Economy Class   \n",
       "\n",
       "                          route date_flown  seat_comfort  cabin_staff_service  \\\n",
       "0       Manchester to Barcelona 2023-07-01             1                    4   \n",
       "1       Manchester to Lanzarote 2023-12-01             2                    1   \n",
       "2  Manchester to Fuerterventura 2023-11-01             4                    5   \n",
       "3          Athens to Manchester 2023-10-01             1                    2   \n",
       "4      Funchal to East Midlands 2023-10-01             1                    4   \n",
       "\n",
       "   food_beverages  ground_service  value_for_money recommended  entertainment  \\\n",
       "0               5               5                1         yes             -1   \n",
       "1              -1               1                3          no             -1   \n",
       "2               5               5                5         yes             -1   \n",
       "3               1               3                1          no              1   \n",
       "4              -1               4                5         yes             -1   \n",
       "\n",
       "      trip_verified  \n",
       "0     Not Verified   \n",
       "1     Not Verified   \n",
       "2     Not Verified   \n",
       "3     Not Verified   \n",
       "4  ✅ Trip Verified   "
      ]
     },
     "execution_count": 22,
     "metadata": {},
     "output_type": "execute_result"
    }
   ],
   "source": [
    "new_airline_review.head()"
   ]
  },
  {
   "cell_type": "code",
   "execution_count": 24,
   "metadata": {},
   "outputs": [
    {
     "data": {
      "text/plain": [
       "6.7478991596638656"
      ]
     },
     "execution_count": 24,
     "metadata": {},
     "output_type": "execute_result"
    }
   ],
   "source": [
    "new_airline_review.rating.mean()"
   ]
  },
  {
   "cell_type": "code",
   "execution_count": 25,
   "metadata": {},
   "outputs": [
    {
     "data": {
      "text/plain": [
       "array(['Not Verified ', '✅ Trip Verified ', None, '✅ Verified Review ',\n",
       "       '❎ Unverified '], dtype=object)"
      ]
     },
     "execution_count": 25,
     "metadata": {},
     "output_type": "execute_result"
    }
   ],
   "source": [
    "new_airline_review.trip_verified.unique()"
   ]
  },
  {
   "cell_type": "code",
   "execution_count": 26,
   "metadata": {},
   "outputs": [
    {
     "data": {
      "text/plain": [
       "✅ Trip Verified       63\n",
       "Not Verified          45\n",
       "✅ Verified Review     34\n",
       "❎ Unverified           1\n",
       "Name: trip_verified, dtype: int64"
      ]
     },
     "execution_count": 26,
     "metadata": {},
     "output_type": "execute_result"
    }
   ],
   "source": [
    "new_airline_review.trip_verified.value_counts()"
   ]
  },
  {
   "cell_type": "code",
   "execution_count": 27,
   "metadata": {},
   "outputs": [],
   "source": [
    "def clean_trip(x):\n",
    "    if(x=='Not Verified ' or x=='❎ Not Verified ' or x=='❎ Unverified '):\n",
    "        return 'Not Verified'\n",
    "    elif(x=='✅ Trip Verified ' or x=='✅ Verified Review '):\n",
    "        return 'Verified'\n",
    "    else:\n",
    "        return None\n",
    "\n",
    "new_airline_review.trip_verified=new_airline_review.trip_verified.apply(clean_trip)"
   ]
  },
  {
   "cell_type": "code",
   "execution_count": 28,
   "metadata": {},
   "outputs": [
    {
     "data": {
      "text/plain": [
       "Index(['rating', 'header', 'author', 'date', 'place', 'content', 'aircraft',\n",
       "       'traveller_type', 'seat_type', 'route', 'date_flown', 'seat_comfort',\n",
       "       'cabin_staff_service', 'food_beverages', 'ground_service',\n",
       "       'value_for_money', 'recommended', 'entertainment', 'trip_verified'],\n",
       "      dtype='object')"
      ]
     },
     "execution_count": 28,
     "metadata": {},
     "output_type": "execute_result"
    }
   ],
   "source": [
    "new_airline_review.columns"
   ]
  },
  {
   "cell_type": "code",
   "execution_count": 29,
   "metadata": {},
   "outputs": [],
   "source": [
    "new_airline_review.drop_duplicates(inplace=True)"
   ]
  },
  {
   "cell_type": "code",
   "execution_count": 30,
   "metadata": {},
   "outputs": [
    {
     "name": "stdout",
     "output_type": "stream",
     "text": [
      "<class 'pandas.core.frame.DataFrame'>\n",
      "Int64Index: 476 entries, 0 to 525\n",
      "Data columns (total 19 columns):\n",
      " #   Column               Non-Null Count  Dtype         \n",
      "---  ------               --------------  -----         \n",
      " 0   rating               476 non-null    int64         \n",
      " 1   header               476 non-null    object        \n",
      " 2   author               476 non-null    object        \n",
      " 3   date                 476 non-null    datetime64[ns]\n",
      " 4   place                476 non-null    object        \n",
      " 5   content              476 non-null    object        \n",
      " 6   aircraft             97 non-null     object        \n",
      " 7   traveller_type       237 non-null    object        \n",
      " 8   seat_type            475 non-null    object        \n",
      " 9   route                235 non-null    object        \n",
      " 10  date_flown           235 non-null    datetime64[ns]\n",
      " 11  seat_comfort         476 non-null    int64         \n",
      " 12  cabin_staff_service  476 non-null    int64         \n",
      " 13  food_beverages       476 non-null    int64         \n",
      " 14  ground_service       476 non-null    int64         \n",
      " 15  value_for_money      476 non-null    int64         \n",
      " 16  recommended          476 non-null    object        \n",
      " 17  entertainment        476 non-null    int64         \n",
      " 18  trip_verified        143 non-null    object        \n",
      "dtypes: datetime64[ns](2), int64(7), object(10)\n",
      "memory usage: 74.4+ KB\n"
     ]
    }
   ],
   "source": [
    "new_airline_review.info()"
   ]
  },
  {
   "cell_type": "code",
   "execution_count": 31,
   "metadata": {},
   "outputs": [],
   "source": [
    "new_airline_review.to_csv(\"Jet2_reviews.csv\")"
   ]
  },
  {
   "cell_type": "code",
   "execution_count": null,
   "metadata": {},
   "outputs": [],
   "source": []
  }
 ],
 "metadata": {
  "kernelspec": {
   "display_name": "Python 3",
   "language": "python",
   "name": "python3"
  },
  "language_info": {
   "codemirror_mode": {
    "name": "ipython",
    "version": 3
   },
   "file_extension": ".py",
   "mimetype": "text/x-python",
   "name": "python",
   "nbconvert_exporter": "python",
   "pygments_lexer": "ipython3",
   "version": "3.8.5"
  }
 },
 "nbformat": 4,
 "nbformat_minor": 4
}
